{
 "cells": [
  {
   "cell_type": "code",
   "execution_count": 1,
   "metadata": {},
   "outputs": [
    {
     "name": "stdout",
     "output_type": "stream",
     "text": [
      "Radial plot for player comparisons\n"
     ]
    }
   ],
   "source": [
    "print(\"Radial plot for player comparisons\")"
   ]
  },
  {
   "cell_type": "code",
   "execution_count": null,
   "metadata": {},
   "outputs": [],
   "source": [
    "import numpy as np\n",
    "import seaborn as sb\n",
    "import matplotlib.pyplot as plt\n",
    "import pandas as pd"
   ]
  },
  {
   "cell_type": "code",
   "execution_count": null,
   "metadata": {},
   "outputs": [],
   "source": [
    "datarad=read.csv(\"F:\\\\fifa19new.csv\")\n",
    "rad= datarad[c('name','finishing','dribbling','sprintspeed','shortpassing','standingtackle')]\n",
    "cat(\"\\nEnter name of player 1: \")\n",
    "p1=readline()\n",
    "cat(\"\\nEnter name of player 2: \")\n",
    "p2=readline()\n",
    "cmp=rad[(rad$name==p1),rad[0]]\n",
    "cmp=rbind(cmp.rad[(rad$name==p2),rad[0]])\n",
    "pc1=c(cmp$name[1],cmp$finishing[1],cmp$dribbling[1],cmp$sprintspeed[1],cmp$shortpassing[1],cmp$standingtackle[1])\n",
    "pc2=c(cmp$name[2],cmp$finishing[2],cmp$dribbling[2],cmp$sprintspeed[2],cmp$shortpassing[2],cmp$standingtackle[2])\n",
    "p=plot_ly(type='scatterpolar',fill='toself') %>% add_trace(r=pc1,theta = c('Shoot','Movement','Pace','Passing','Defence'),name=p1)  %>% add_trace(r=pc1,theta = c('Shoot','Movement','Pace','Passing','Defence'),name=p2) %>% layout(polar - list(radialaxis -list(visible - T,range - c(0,100))))\n",
    "print(p)"
   ]
  },
  {
   "cell_type": "code",
   "execution_count": null,
   "metadata": {},
   "outputs": [],
   "source": []
  }
 ],
 "metadata": {
  "kernelspec": {
   "display_name": "Python 3",
   "language": "python",
   "name": "python3"
  },
  "language_info": {
   "codemirror_mode": {
    "name": "ipython",
    "version": 3
   },
   "file_extension": ".py",
   "mimetype": "text/x-python",
   "name": "python",
   "nbconvert_exporter": "python",
   "pygments_lexer": "ipython3",
   "version": "3.8.1"
  }
 },
 "nbformat": 4,
 "nbformat_minor": 2
}
